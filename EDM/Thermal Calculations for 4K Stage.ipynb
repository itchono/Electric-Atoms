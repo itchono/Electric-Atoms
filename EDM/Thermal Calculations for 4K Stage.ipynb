{
 "metadata": {
  "language_info": {
   "codemirror_mode": {
    "name": "ipython",
    "version": 3
   },
   "file_extension": ".py",
   "mimetype": "text/x-python",
   "name": "python",
   "nbconvert_exporter": "python",
   "pygments_lexer": "ipython3",
   "version": 3
  },
  "orig_nbformat": 2
 },
 "nbformat": 4,
 "nbformat_minor": 2,
 "cells": [
  {
   "cell_type": "markdown",
   "metadata": {},
   "source": [
    "# Heat Calculations for 4K Stage"
   ]
  },
  {
   "cell_type": "markdown",
   "metadata": {},
   "source": [
    "1. Function definitions"
   ]
  },
  {
   "cell_type": "code",
   "execution_count": null,
   "metadata": {},
   "outputs": [],
   "source": [
    "from scipy.constants import sigma\n",
    "from numpy import e,pi\n",
    "import numpy as np\n",
    "\n",
    "def kappaG10(T):\n",
    "    '''\n",
    "    Returns thermal conductivity of G-10 at a given temperature (approx)\n",
    "\n",
    "    Approximated from \n",
    "    https://trc.nist.gov/cryogenics/materials/G-10%20CR%20Fiberglass%20Epoxy/G10CRFiberglassEpoxy_rev.htm\n",
    "    Plot number 1 at the top [Thermal Conductivity, Normal Direction]\n",
    "    '''\n",
    "    return 0.1 + 1.67e-3*T # approximate thermal curve\n",
    "\n",
    "def conductive_heat(kappa, A, l, T_outside, T_self):\n",
    "    '''\n",
    "    Conductive heat transfer power\n",
    "\n",
    "    kappa should be a function of temperature\n",
    "    A, l, T in SI units (m, K)\n",
    "    '''\n",
    "    print(f\"Rate of Conductive Heat Transfer is {Rate := A/l * (T_outside*kappa(T_outside)-T_self*kappa(T_self))} W\")\n",
    "    return Rate \n",
    "\n",
    "def radiative_heat(emissivity, area, T_outside, T_self):\n",
    "    '''\n",
    "    Radiative heat transfer power\n",
    "    '''\n",
    "    print(f\"Rate of Radiative Heat Transfer is {Rate := emissivity*sigma*(T_self**4 - T_outside**4)} W\")\n",
    "    return Rate\n",
    "\n",
    "\n",
    "def Area_cylinder(r,l):\n",
    "    '''\n",
    "    Surface area of the curved surface of a cylinder\n",
    "    '''\n",
    "    return 2*pi*r*l"
   ]
  },
  {
   "cell_type": "code",
   "execution_count": null,
   "metadata": {},
   "outputs": [],
   "source": []
  }
 ]
}